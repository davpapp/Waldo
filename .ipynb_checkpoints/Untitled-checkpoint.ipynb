{
 "cells": [
  {
   "cell_type": "code",
   "execution_count": 36,
   "metadata": {},
   "outputs": [],
   "source": [
    "import numpy as np\n",
    "import os\n",
    "from PIL import Image\n",
    "import csv\n",
    "import random"
   ]
  },
  {
   "cell_type": "code",
   "execution_count": 52,
   "metadata": {},
   "outputs": [],
   "source": [
    "waldo_locs = {}\n",
    "with open('./original-images/waldo_locs.csv', newline='') as csvfile:\n",
    "    reader = csv.reader(csvfile)\n",
    "    for row in reader:\n",
    "        waldo_locs[row[0]] = (int(row[1]) - 32, int(row[2]) - 32)"
   ]
  },
  {
   "cell_type": "code",
   "execution_count": 54,
   "metadata": {},
   "outputs": [],
   "source": [
    "for filename in os.listdir('./original-images/'):\n",
    "    if not filename.endswith('.jpg'):\n",
    "        continue\n",
    "    img = Image.open('./original-images/' + filename)\n",
    "    if (not ('./original-images/' + filename) in waldo_locs):\n",
    "        continue\n",
    "    x, y = waldo_locs['./original-images/' + filename]\n",
    "    w, h = 64, 64\n",
    "    for i in range(10):\n",
    "        x_offset = random.randint(-16, 16)\n",
    "        y_offset = random.randint(-16, 16)\n",
    "        file_number = filename.split('.')[0]\n",
    "        new_file_name = './original-images/cropped/' + file_number + '_cropped_' + str(i) + '.jpg'\n",
    "        img.crop((x+x_offset, y+y_offset, x+x_offset+w, y+y_offset+h)).save(new_file_name)"
   ]
  },
  {
   "cell_type": "code",
   "execution_count": null,
   "metadata": {},
   "outputs": [],
   "source": []
  }
 ],
 "metadata": {
  "kernelspec": {
   "display_name": "Python 3",
   "language": "python",
   "name": "python3"
  },
  "language_info": {
   "codemirror_mode": {
    "name": "ipython",
    "version": 3
   },
   "file_extension": ".py",
   "mimetype": "text/x-python",
   "name": "python",
   "nbconvert_exporter": "python",
   "pygments_lexer": "ipython3",
   "version": "3.6.8"
  }
 },
 "nbformat": 4,
 "nbformat_minor": 2
}
